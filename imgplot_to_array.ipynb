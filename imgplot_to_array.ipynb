{
 "cells": [
  {
   "cell_type": "markdown",
   "id": "44411706-8c7b-4b85-b826-2e4d8faf908e",
   "metadata": {},
   "source": [
    "# Imports and Functions"
   ]
  },
  {
   "cell_type": "code",
   "execution_count": null,
   "id": "8a63a79e-728c-4b46-90ff-8c76e429fd3f",
   "metadata": {},
   "outputs": [],
   "source": [
    "import numpy as np\n",
    "import cv2\n",
    "import matplotlib\n",
    "import matplotlib.pyplot as plt\n",
    "from matplotlib.pyplot import subplots\n",
    "from matplotlib.colors import ListedColormap, BoundaryNorm\n",
    "import os\n",
    "from ImagePlotDigitizer_funcs import color_to_value, generate_x_axis_map, generate_y_axis_map, crop_image\n",
    "%matplotlib widget"
   ]
  },
  {
   "cell_type": "markdown",
   "id": "c6f948f8-eea8-4473-9f0f-26b0a754207b",
   "metadata": {},
   "source": [
    "# Load Image into an rgb array"
   ]
  },
  {
   "cell_type": "code",
   "execution_count": null,
   "id": "40a08ab8-08dd-4bbd-9182-f723a6f54799",
   "metadata": {},
   "outputs": [],
   "source": [
    "cwd = os.getcwd()\n",
    "image_path = f'{cwd}/test_images/F2_McNeill.png'\n",
    "img = cv2.imread(image_path)\n",
    "img_rgb = cv2.cvtColor(img, cv2.COLOR_BGR2RGB)\n",
    "fig,ax1 = subplots(1,1)\n",
    "ax1.imshow(img_rgb)"
   ]
  },
  {
   "cell_type": "markdown",
   "id": "dbd1dc18-0c0b-4df7-b4cf-5dfa54f89ea1",
   "metadata": {},
   "source": [
    "# Define image colormap, edit if needed"
   ]
  },
  {
   "cell_type": "code",
   "execution_count": null,
   "id": "8ed65535-8c53-4824-bbd8-e61398cb0004",
   "metadata": {},
   "outputs": [],
   "source": [
    "colormap = plt.colormaps['hot'].copy()\n",
    "# Extract the colors from the original colormap\n",
    "colors = colormap(np.linspace(0, 1, colormap.N))\n",
    "# Modify the last colors to match overbound colors in image\n",
    "colors[-2] = (0.4,0,0.6,1)\n",
    "colors[-1] = (0.1,0,0.6,1)\n",
    "# Create a new colormap with the modified colors\n",
    "colormap = ListedColormap(colors)\n",
    "colormap"
   ]
  },
  {
   "cell_type": "markdown",
   "id": "13d4ceb1-9c45-4a01-bcc6-f489aea26d9d",
   "metadata": {},
   "source": [
    "# Map RGB image array to colormap to convert it to value only array"
   ]
  },
  {
   "cell_type": "code",
   "execution_count": null,
   "id": "c0078fc5-dbff-4f7a-8401-0912124339ea",
   "metadata": {},
   "outputs": [],
   "source": [
    "# Extract colors and map to data values\n",
    "img_vals = np.zeros((img_rgb.shape[0], img_rgb.shape[1]))\n",
    "for i in range(img_rgb.shape[0]):\n",
    "    for j in range(img_rgb.shape[1]):\n",
    "        color = img_rgb[i, j]  # Normalize color\n",
    "        value = color_to_value(color, colormap, num_samples=200,  log=False)\n",
    "        img_vals[i, j] = value\n",
    "fig,ax1 = subplots(1,1)\n",
    "ax1.imshow(img_vals,\n",
    "          cmap='turbo')"
   ]
  },
  {
   "cell_type": "markdown",
   "id": "f8e92c43-5184-42c3-865c-c00591a2cbf3",
   "metadata": {},
   "source": [
    "# Using interactive plot (above) fill in two x-axis values and corresponding column number"
   ]
  },
  {
   "cell_type": "code",
   "execution_count": null,
   "id": "01a5ab2b-ae07-435b-8418-d5e8128a7bf1",
   "metadata": {},
   "outputs": [],
   "source": [
    "x1 = 0\n",
    "col1 = 96\n",
    "x2 = 2\n",
    "col2 = 457\n",
    "x_axis = generate_x_axis_map((col1, x1), (col2, x2), img_vals)\n",
    "\n",
    "# # Example syntax for non-linear x axis:\n",
    "# x_indices = [  32, 100, 168, 211, 239, 268, 297, 328, 359]\n",
    "# x_coords =  [-0.5,   0, 0.5, 0.8, 1.0, 1.2, 1.4, 1.6, 1.8]\n",
    "# x_axis = generate_arb_x_axis_map(x_indices, x_coords, img_vals)"
   ]
  },
  {
   "cell_type": "markdown",
   "id": "cae72a39-8d0a-4261-b76d-f2bf81f6d71c",
   "metadata": {},
   "source": [
    "# Repeat for y-axis values and row number"
   ]
  },
  {
   "cell_type": "code",
   "execution_count": null,
   "id": "ce8b4177-efbe-4fcd-ac59-45a9b99c0597",
   "metadata": {},
   "outputs": [],
   "source": [
    "y1 = 2\n",
    "row1 = 22\n",
    "y2 = 0\n",
    "row2 = 384\n",
    "y_axis = generate_y_axis_map((row1, y1), (row2, y2), img_vals)\n",
    "\n",
    "# # Example syntax for non-linear y axis:\n",
    "# y_indices = [ 16,  50,  83, 113, 143, 172, 201, 229, 257, 284, 311]\n",
    "# y_coords =  [2.2, 2.0, 1.8, 1.6, 1.4, 1.2, 1.0, 0.8, 0.6, 0.4, 0.2]\n",
    "# y_axis = generate_arb_y_axis_map(y_indices, y_coords, img_vals)"
   ]
  },
  {
   "cell_type": "markdown",
   "id": "57ea2107-d465-4ae0-867b-42089c6990d8",
   "metadata": {},
   "source": [
    "# Plot to verify axis values are correct"
   ]
  },
  {
   "cell_type": "code",
   "execution_count": null,
   "id": "ca155245-275c-421c-9121-3eca1a92b43f",
   "metadata": {},
   "outputs": [],
   "source": [
    "fig,ax1 = subplots(1,1)\n",
    "img_min = np.min(img_vals)\n",
    "img_max = np.max(img_vals)\n",
    "ax1.imshow(img_vals,\n",
    "           norm=matplotlib.colors.Normalize(vmin=img_min, vmax=img_max),\n",
    "           # norm=matplotlib.colors.LogNorm(vmin=np.percentile(img_array, 50), vmax=np.percentile(img_array, 99.9)),\n",
    "           cmap='turbo',\n",
    "           extent=(np.min(x_axis), np.max(x_axis), np.min(y_axis), np.max(y_axis)))\n",
    "\n",
    "\n",
    "# # For plotting non-linearly spaced x and y axes with pcolormesh:\n",
    "# fig,ax1 = subplots(1,1)\n",
    "# X, Y = np.meshgrid(x_axis, y_axis)\n",
    "# ax1.pcolormesh(\n",
    "#     X, Y,\n",
    "#     img_vals,\n",
    "#     norm=matplotlib.colors.LogNorm(vmin=np.percentile(img_vals, 50), vmax=np.percentile(img_vals, 99.9)),\n",
    "#     cmap='terrain'\n",
    "# )\n",
    "# ax1.set(aspect='equal')"
   ]
  },
  {
   "cell_type": "markdown",
   "id": "e293a49b-4fb4-42e0-8a56-ca0d86454659",
   "metadata": {},
   "source": [
    "# Crop image"
   ]
  },
  {
   "cell_type": "code",
   "execution_count": null,
   "id": "5e2f0bca-44d0-4c42-b648-e6adddb0f63c",
   "metadata": {},
   "outputs": [],
   "source": [
    "x_bounds = (0,2)\n",
    "y_bounds = (0,1.85)\n",
    "crop_img, crop_x_axis, crop_y_axis = crop_image(img_vals, x_bounds, y_bounds, x_axis, y_axis)\n",
    "fig,ax1 = subplots(1,1)\n",
    "img_min = np.min(crop_img)\n",
    "img_max = np.max(crop_img)\n",
    "ax1.imshow(crop_img,\n",
    "           norm=matplotlib.colors.Normalize(vmin=img_min, vmax=img_max),\n",
    "           # norm=matplotlib.colors.LogNorm(vmin=np.percentile(img_array, 50), vmax=np.percentile(img_array, 99.9)),\n",
    "           cmap='turbo',\n",
    "           extent=(np.min(crop_x_axis), np.max(crop_x_axis), np.min(crop_y_axis), np.max(crop_y_axis)))\n",
    "\n",
    "# Use pcolormesh instead of imshow for non-linear axes\n",
    "# X, Y = np.meshgrid(crop_x_axis, crop_y_axis)\n",
    "# ax1.pcolormesh(\n",
    "#     X, Y,\n",
    "#     crop_img,\n",
    "#     norm=matplotlib.colors.LogNorm(vmin=np.percentile(img_vals, 50), vmax=np.percentile(img_vals, 99.9)),\n",
    "#     cmap='terrain'\n",
    "# )\n",
    "# ax1.set(aspect='equal')"
   ]
  },
  {
   "cell_type": "markdown",
   "id": "b74784fe-a7c9-4113-abd1-78a151aadf4d",
   "metadata": {},
   "source": [
    "# Save Image and axes"
   ]
  },
  {
   "cell_type": "code",
   "execution_count": null,
   "id": "7e73c420-a8ae-4a6b-bc2f-f525431e56d4",
   "metadata": {},
   "outputs": [],
   "source": [
    "save_dirr = f'{cwd}/outputs'\n",
    "if not os.path.exists(save_dirr):\n",
    "    os.mkdir(save_dirr)\n",
    "img_name = 'F2_digitized'\n",
    "np.save(f'{save_dirr}/{img_name}_img.npy', crop_img)\n",
    "np.save(f'{save_dirr}/{img_name}_xaxis.npy', crop_x_axis)\n",
    "np.save(f'{save_dirr}/{img_name}_yaxis.npy', crop_y_axis)"
   ]
  }
 ],
 "metadata": {
  "kernelspec": {
   "display_name": "Python 3 (ipykernel)",
   "language": "python",
   "name": "python3"
  },
  "language_info": {
   "codemirror_mode": {
    "name": "ipython",
    "version": 3
   },
   "file_extension": ".py",
   "mimetype": "text/x-python",
   "name": "python",
   "nbconvert_exporter": "python",
   "pygments_lexer": "ipython3",
   "version": "3.13.1"
  }
 },
 "nbformat": 4,
 "nbformat_minor": 5
}
